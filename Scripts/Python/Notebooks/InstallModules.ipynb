{
 "cells": [
  {
   "cell_type": "code",
   "execution_count": 1,
   "metadata": {
    "collapsed": true
   },
   "outputs": [],
   "source": [
    "import pip"
   ]
  },
  {
   "cell_type": "code",
   "execution_count": 2,
   "metadata": {
    "collapsed": true
   },
   "outputs": [],
   "source": [
    "def inst(pkg):\n",
    "    pip.main(['install',pkg])"
   ]
  },
  {
   "cell_type": "code",
   "execution_count": 3,
   "metadata": {},
   "outputs": [
    {
     "name": "stdout",
     "output_type": "stream",
     "text": [
      "Collecting openpyxl\n",
      "  Downloading openpyxl-2.4.8.tar.gz (156kB)\n",
      "Collecting jdcal (from openpyxl)\n",
      "  Downloading jdcal-1.3.tar.gz\n",
      "Collecting et_xmlfile (from openpyxl)\n",
      "  Downloading et_xmlfile-1.0.1.tar.gz\n",
      "Building wheels for collected packages: openpyxl, jdcal, et-xmlfile\n",
      "  Running setup.py bdist_wheel for openpyxl: started\n",
      "  Running setup.py bdist_wheel for openpyxl: finished with status 'done'\n",
      "  Stored in directory: C:\\Users\\jpfay\\AppData\\Local\\pip\\Cache\\wheels\\02\\59\\94\\f8c9ebb9d31191e1373df8c3192a57b59e4230accf15658009\n",
      "  Running setup.py bdist_wheel for jdcal: started\n",
      "  Running setup.py bdist_wheel for jdcal: finished with status 'done'\n",
      "  Stored in directory: C:\\Users\\jpfay\\AppData\\Local\\pip\\Cache\\wheels\\0f\\63\\92\\19ac65ed64189de4d662f269d39dd08a887258842ad2f29549\n",
      "  Running setup.py bdist_wheel for et-xmlfile: started\n",
      "  Running setup.py bdist_wheel for et-xmlfile: finished with status 'done'\n",
      "  Stored in directory: C:\\Users\\jpfay\\AppData\\Local\\pip\\Cache\\wheels\\99\\f6\\53\\5e18f3ff4ce36c990fa90ebdf2b80cd9b44dc461f750a1a77c\n",
      "Successfully built openpyxl jdcal et-xmlfile\n",
      "Installing collected packages: jdcal, et-xmlfile, openpyxl\n",
      "Successfully installed et-xmlfile-1.0.1 jdcal-1.3 openpyxl-2.4.8\n"
     ]
    }
   ],
   "source": [
    "inst('openpyxl')"
   ]
  }
 ],
 "metadata": {
  "kernelspec": {
   "display_name": "Python 2",
   "language": "python",
   "name": "python2"
  },
  "language_info": {
   "codemirror_mode": {
    "name": "ipython",
    "version": 2
   },
   "file_extension": ".py",
   "mimetype": "text/x-python",
   "name": "python",
   "nbconvert_exporter": "python",
   "pygments_lexer": "ipython2",
   "version": "2.7.12"
  }
 },
 "nbformat": 4,
 "nbformat_minor": 2
}
