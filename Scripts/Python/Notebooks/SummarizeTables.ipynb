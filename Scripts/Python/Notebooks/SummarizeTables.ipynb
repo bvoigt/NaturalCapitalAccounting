{
 "cells": [
  {
   "cell_type": "markdown",
   "metadata": {},
   "source": [
    "## Summarize Tables\n",
    "* Joins FIPS codes to downloaded water tables and summarizes by state"
   ]
  },
  {
   "cell_type": "code",
   "execution_count": 1,
   "metadata": {
    "collapsed": true
   },
   "outputs": [],
   "source": [
    "#import libraries\n",
    "import sys, os\n",
    "import pandas as pd\n",
    "import numpy as np"
   ]
  },
  {
   "cell_type": "code",
   "execution_count": 8,
   "metadata": {
    "collapsed": true
   },
   "outputs": [],
   "source": [
    "#get the filenames\n",
    "dataDir = \"../../Data\"\n",
    "fipsCSV = dataDir + os.sep + \"FIPS.csv\"\n",
    "supplyCSV = dataDir + os.sep + \"HydroData.csv\"\n",
    "usageCSV = dataDir + os.sep + \"UseData.csv\"\n",
    "outCSV = dataDir + os.sep + \"foo.csv\""
   ]
  },
  {
   "cell_type": "code",
   "execution_count": 10,
   "metadata": {},
   "outputs": [
    {
     "name": "stdout",
     "output_type": "stream",
     "text": [
      "(54017, 2) (162051, 9) (9670, 118)\n"
     ]
    }
   ],
   "source": [
    "#make data frames from the csv files\n",
    "dfFIPS = pd.read_csv(fipsCSV)\n",
    "dfSupply = pd.read_csv(supplyCSV)\n",
    "dfUsage = pd.read_csv(usageCSV)\n",
    "print dfFIPS.shape, dfSupply.shape, dfUsage.shape"
   ]
  },
  {
   "cell_type": "code",
   "execution_count": 22,
   "metadata": {
    "scrolled": true
   },
   "outputs": [],
   "source": [
    "#Pivot usage, group on state list each year\n",
    "pt = dfUsage.pivot_table(values='TP-TotPop',index='STATEFIPS',columns='YEAR',aggfunc=np.sum)\n",
    "pt.to_csv(outCSV)"
   ]
  },
  {
   "cell_type": "code",
   "execution_count": 30,
   "metadata": {},
   "outputs": [
    {
     "data": {
      "text/plain": [
       "AQ-WFrTo    1466.23\n",
       "DO-WFrTo     231.35\n",
       "IN-Wtotl     271.38\n",
       "IR-WFrTo     366.93\n",
       "MI-WFrTo      32.63\n",
       "PS-Wtotl     959.79\n",
       "PT-WFrTo    7656.41\n",
       "Name: NC, dtype: float64"
      ]
     },
     "execution_count": 30,
     "metadata": {},
     "output_type": "execute_result"
    }
   ],
   "source": [
    "#Create a total withdrawl tables\n",
    "wdNames = ['Public','Domestic','Industry','Irrigation','Livestock','Aquaculture','Mining','Thermo']\n",
    "wdFields = ['PS-Wtotl','DO-WFrTo','IN-Wtotl','IR-WFrTo','LI-WFrTo','AQ-WFrTo','MI-WFrTo','PT-WFrTo']\n",
    "df2000 = df[wdFields]\n",
    "pt2000 = dfUsage[dfUsage.YEAR == 2010].pivot_table(index='STATE',values=wdFields,aggfunc=np.sum).T\n",
    "pt2000.NC"
   ]
  },
  {
   "cell_type": "code",
   "execution_count": 91,
   "metadata": {},
   "outputs": [
    {
     "name": "stdout",
     "output_type": "stream",
     "text": [
      "STATE            AK                       AL                          AR  \\\n",
      "YEAR           2000    2005    2010     2000     2005     2010      2000   \n",
      "Aquaculture     NaN  720.44  683.85    10.37    74.89    59.10    197.71   \n",
      "Domestic      11.18   14.06   14.80    78.88    39.12    37.97     28.46   \n",
      "Industry       8.12    8.16    7.78   833.09   550.42   574.43    133.83   \n",
      "Irrigation      NaN    1.05    1.59      NaN   161.20   158.90       NaN   \n",
      "Livestock       NaN    0.30    0.25      NaN    28.11    26.48       NaN   \n",
      "Mining        27.38   22.20   24.09      NaN    27.82    20.21      2.78   \n",
      "Public        80.03   75.79   79.05   834.45   801.66   831.07    420.77   \n",
      "Thermo        33.55   33.55   57.99  8189.79  8274.42  8251.81   2175.37   \n",
      "zTOTAL       161.27  875.55  869.40  9989.72  9957.64  9959.97  10872.29   \n",
      "\n",
      "STATE                                 AZ   ...          WA       WI           \\\n",
      "YEAR             2005      2010     2000   ...        2010     2000     2005   \n",
      "Aquaculture    256.47    267.60      NaN   ...      213.16    70.20    81.72   \n",
      "Domestic        17.83     12.84    28.88   ...      112.84    96.28    87.32   \n",
      "Industry       178.32    270.52    19.76   ...      457.74   447.17   470.89   \n",
      "Irrigation    8534.19   8719.73      NaN   ...     3146.91      NaN   401.78   \n",
      "Livestock       38.85     38.96      NaN   ...       27.75    66.33    72.84   \n",
      "Mining           1.29     44.29    85.68   ...       16.71      NaN    32.52   \n",
      "Public         404.10    428.67  1082.55   ...      909.63   623.15   552.39   \n",
      "Thermo        1997.24   1539.30   100.45   ...       37.93  6094.44  6897.93   \n",
      "zTOTAL       11428.29  11321.91  6720.98   ...     4922.67  7593.93  8597.39   \n",
      "\n",
      "STATE                      WV                         WY                    \n",
      "YEAR            2010     2000     2005     2010     2000     2005     2010  \n",
      "Aquaculture    55.76      NaN    52.74    52.32      NaN    23.32    20.83  \n",
      "Domestic       78.36      NaN    33.50    31.51     6.57     6.32     8.55  \n",
      "Industry      436.14   968.10   965.64   764.16     5.78     6.04     6.74  \n",
      "Irrigation    378.80      NaN     0.02     0.09      NaN  3991.95  4369.34  \n",
      "Livestock      73.07      NaN     4.99     5.08      NaN    16.22    16.48  \n",
      "Mining         19.56      NaN    14.15    14.53    79.49    51.77    50.12  \n",
      "Public        481.41   190.35   188.82   189.17   106.54    96.27    98.98  \n",
      "Thermo       4634.49  3949.09  3551.41  2471.31   243.28   222.78    63.35  \n",
      "zTOTAL       6157.59      NaN  4811.27  3528.17  4943.98  4414.67  4634.39  \n",
      "\n",
      "[9 rows x 159 columns]\n"
     ]
    }
   ],
   "source": [
    "wdNames = ['YEAR','STATE','Public','Domestic','Industry','Irrigation','Livestock','Aquaculture','Mining','Thermo','zTOTAL']\n",
    "wdFields = ['YEAR','STATE','PS-WFrTo','DO-WFrTo','IN-WFrTo','IR-WFrTo','LI-WFrTo','AQ-WFrTo','MI-WFrTo','PT-WFrTo','TO-WFrTo']\n",
    "#df2000 = dfUsage[dfUsage.YEAR == 2000]\n",
    "dfWithdrawals = dfUsage[wdFields]\n",
    "dfWithdrawals.columns = wdNames\n",
    "#p2000 = dfWithdrawals[wdNames][dfUsage.YEAR == 2000].pivot_table(index=('STATE','YEAR'),values=wdNames,aggfunc=np.sum).T\n",
    "p2000 = dfWithdrawals[wdNames].pivot_table(index=('STATE','YEAR'),values=wdNames,aggfunc=np.sum).T\n",
    "print p2000"
   ]
  },
  {
   "cell_type": "code",
   "execution_count": 32,
   "metadata": {},
   "outputs": [
    {
     "data": {
      "text/plain": [
       "10984.719999999999"
      ]
     },
     "execution_count": 32,
     "metadata": {},
     "output_type": "execute_result"
    }
   ],
   "source": [
    "pt2000.NC.sum()"
   ]
  },
  {
   "cell_type": "code",
   "execution_count": 34,
   "metadata": {},
   "outputs": [
    {
     "data": {
      "text/plain": [
       "10984.92"
      ]
     },
     "execution_count": 34,
     "metadata": {},
     "output_type": "execute_result"
    }
   ],
   "source": [
    "1466.23 + 231.55 + 271.38 + 366.93 + 32.63 + 959.79 + 7656.41"
   ]
  }
 ],
 "metadata": {
  "kernelspec": {
   "display_name": "Python 2",
   "language": "python",
   "name": "python2"
  },
  "language_info": {
   "codemirror_mode": {
    "name": "ipython",
    "version": 2
   },
   "file_extension": ".py",
   "mimetype": "text/x-python",
   "name": "python",
   "nbconvert_exporter": "python",
   "pygments_lexer": "ipython2",
   "version": "2.7.12"
  }
 },
 "nbformat": 4,
 "nbformat_minor": 2
}
