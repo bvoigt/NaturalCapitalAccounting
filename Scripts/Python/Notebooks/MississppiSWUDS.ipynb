{
 "cells": [
  {
   "cell_type": "markdown",
   "metadata": {},
   "source": [
    "#### Read SWUDS data workbook\n"
   ]
  },
  {
   "cell_type": "code",
   "execution_count": 1,
   "metadata": {
    "collapsed": true
   },
   "outputs": [],
   "source": [
    "#import modules\n",
    "import sys, os, xlrd\n",
    "import pandas as pd\n",
    "import numpy as np"
   ]
  },
  {
   "cell_type": "code",
   "execution_count": 2,
   "metadata": {},
   "outputs": [],
   "source": [
    "#Filenames\n",
    "dataDir = '../../Data'\n",
    "scratchDir = '../../Scratch'\n",
    "xlFN = dataDir + os.sep + 'Proprietary/MississippiWaterUse.xlsx'\n",
    "outFN = dataDir + os.sep + \"MSsummary.csv\""
   ]
  },
  {
   "cell_type": "code",
   "execution_count": 3,
   "metadata": {},
   "outputs": [],
   "source": [
    "#Read the xlsx file in as a dataframe\n",
    "dfAll = pd.read_excel(xlFN)"
   ]
  },
  {
   "cell_type": "code",
   "execution_count": 4,
   "metadata": {},
   "outputs": [
    {
     "data": {
      "text/plain": [
       "From Agency Code                  889\n",
       "From Site Number                  889\n",
       "From Station Name                 889\n",
       "From Site Type Code               889\n",
       "From Site Type Name               889\n",
       "From State Fips Code              889\n",
       "From State Name                   889\n",
       "From County Fips Code             889\n",
       "From County Name                  889\n",
       "From Decimal Latitude             889\n",
       "From Decimal Longitude            889\n",
       "From Hydrologic Unit Code         889\n",
       "From Hydrologic Unit Code Name    736\n",
       "From National Aquifer Code        889\n",
       "From National Aquifer Name        885\n",
       "From Aquifer Code                 889\n",
       "From Aquifer Name                 886\n",
       "From Aquifer Type Code            889\n",
       "From Agency Use Code              889\n",
       "From National Water Use Code      889\n",
       "To Agency Code                    889\n",
       "To Site Number                    889\n",
       "To Station Name                   889\n",
       "To Site Type Code                 889\n",
       "To Site Type Name                 889\n",
       "To Site Type Long Name            889\n",
       "To Decimal Latitude                74\n",
       "To Decimal Longitude               74\n",
       "To State Fips Code                889\n",
       "To State Name                     889\n",
       "To County Fips Code               889\n",
       "To County Name                    889\n",
       "To National Water Use Code        889\n",
       "To SIC Code                        76\n",
       "To SIC Code Description            76\n",
       "To NAICS Code                       0\n",
       "To NAICS Code Description           0\n",
       "Year                              889\n",
       "Annual Value                      889\n",
       "Annual Reporting Unit Name        889\n",
       "Irrigation Method Code              0\n",
       "Water Use Subtype Code            889\n",
       "dtype: int64"
      ]
     },
     "execution_count": 4,
     "metadata": {},
     "output_type": "execute_result"
    }
   ],
   "source": [
    "#Select only 2010 records and list the number of data for each column\n",
    "df2010 = dfAll[dfAll.Year == 2010]\n",
    "df2010.count()"
   ]
  },
  {
   "cell_type": "code",
   "execution_count": 5,
   "metadata": {},
   "outputs": [
    {
     "name": "stdout",
     "output_type": "stream",
     "text": [
      "[u'Water Supply' nan]\n"
     ]
    }
   ],
   "source": [
    "#List unique SIC values found in 2010 records\n",
    "print df2010['To SIC Code Description'].unique()"
   ]
  },
  {
   "cell_type": "code",
   "execution_count": 6,
   "metadata": {},
   "outputs": [
    {
     "name": "stdout",
     "output_type": "stream",
     "text": [
      "[ nan]\n"
     ]
    }
   ],
   "source": [
    "#List unique NAICS values\n",
    "print df2010['To NAICS Code'].unique()"
   ]
  },
  {
   "cell_type": "code",
   "execution_count": 7,
   "metadata": {},
   "outputs": [
    {
     "name": "stdout",
     "output_type": "stream",
     "text": [
      "Year\n",
      "1950      1\n",
      "1955      2\n",
      "1960      4\n",
      "1964      2\n",
      "1965      4\n",
      "1966      1\n",
      "1967      6\n",
      "1968     10\n",
      "1969      8\n",
      "1970     15\n",
      "1971     21\n",
      "1972     16\n",
      "1973      3\n",
      "1974     29\n",
      "1975     31\n",
      "1976     11\n",
      "1977     15\n",
      "1978      6\n",
      "1979     48\n",
      "1980     57\n",
      "1981     78\n",
      "1982     82\n",
      "1983     83\n",
      "1984     89\n",
      "1985    111\n",
      "1986     58\n",
      "1987     25\n",
      "1988     20\n",
      "1989      4\n",
      "1990     25\n",
      "1991      1\n",
      "2010      1\n",
      "Name: To SIC Code Description, dtype: int64\n"
     ]
    }
   ],
   "source": [
    "#List the number of unique SIC Code descriptions by year\n",
    "print dfAll.groupby('Year')['To SIC Code Description'].nunique()"
   ]
  },
  {
   "cell_type": "code",
   "execution_count": 14,
   "metadata": {},
   "outputs": [
    {
     "ename": "TypeError",
     "evalue": "pivot() got an unexpected keyword argument 'aggfunc'",
     "output_type": "error",
     "traceback": [
      "\u001b[1;31m---------------------------------------------------------------------------\u001b[0m",
      "\u001b[1;31mTypeError\u001b[0m                                 Traceback (most recent call last)",
      "\u001b[1;32m<ipython-input-14-e37d35539cff>\u001b[0m in \u001b[0;36m<module>\u001b[1;34m()\u001b[0m\n\u001b[0;32m      1\u001b[0m \u001b[1;31m#List the number of years in which each SIC code has been recorded\u001b[0m\u001b[1;33m\u001b[0m\u001b[1;33m\u001b[0m\u001b[0m\n\u001b[0;32m      2\u001b[0m \u001b[1;31m#print dfAll.groupby('To SIC Code Description')['Year'].nunique()\u001b[0m\u001b[1;33m\u001b[0m\u001b[1;33m\u001b[0m\u001b[0m\n\u001b[1;32m----> 3\u001b[1;33m \u001b[1;32mprint\u001b[0m \u001b[0mdfAll\u001b[0m\u001b[1;33m.\u001b[0m\u001b[0mpivot\u001b[0m\u001b[1;33m(\u001b[0m\u001b[1;34m'Water Use Subtype Code'\u001b[0m\u001b[1;33m,\u001b[0m\u001b[0mcolumns\u001b[0m\u001b[1;33m=\u001b[0m\u001b[1;33m(\u001b[0m\u001b[1;34m'Year'\u001b[0m\u001b[1;33m)\u001b[0m\u001b[1;33m,\u001b[0m\u001b[0maggfunc\u001b[0m\u001b[1;33m=\u001b[0m\u001b[1;34m'count'\u001b[0m\u001b[1;33m)\u001b[0m\u001b[1;33m\u001b[0m\u001b[0m\n\u001b[0m",
      "\u001b[1;31mTypeError\u001b[0m: pivot() got an unexpected keyword argument 'aggfunc'"
     ]
    }
   ],
   "source": [
    "#List the number of years in which each SIC code has been recorded\n",
    "#print dfAll.groupby('To SIC Code Description')['Year'].nunique()\n",
    "print dfAll.pivot('Water Use Subtype Code',columns=('Year'),aggfunc='count')"
   ]
  }
 ],
 "metadata": {
  "kernelspec": {
   "display_name": "Python 2",
   "language": "python",
   "name": "python2"
  },
  "language_info": {
   "codemirror_mode": {
    "name": "ipython",
    "version": 2
   },
   "file_extension": ".py",
   "mimetype": "text/x-python",
   "name": "python",
   "nbconvert_exporter": "python",
   "pygments_lexer": "ipython2",
   "version": "2.7.12"
  }
 },
 "nbformat": 4,
 "nbformat_minor": 2
}
