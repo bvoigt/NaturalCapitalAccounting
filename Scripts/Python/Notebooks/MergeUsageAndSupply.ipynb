{
 "cells": [
  {
   "cell_type": "code",
   "execution_count": 2,
   "metadata": {
    "collapsed": true
   },
   "outputs": [],
   "source": [
    "#Load modules\n",
    "import os\n",
    "import pandas as pd\n",
    "import numpy as np"
   ]
  },
  {
   "cell_type": "code",
   "execution_count": 3,
   "metadata": {},
   "outputs": [],
   "source": [
    "#Set filenames\n",
    "dataDir = '../../Data'\n",
    "usageFN = dataDir + os.sep + \"AllUsageData.csv\"\n",
    "supplyFN = dataDir + os.sep + \"SupplyData.csv\"\n",
    "stateFIPSFn = dataDir + os.sep + \"FIPSstate.csv\"\n",
    "outFN = dataDir + os.sep + \"UseAndSupply.csv\""
   ]
  },
  {
   "cell_type": "code",
   "execution_count": 16,
   "metadata": {},
   "outputs": [],
   "source": [
    "#Create data frames from usage and supply\n",
    "dfUsage = pd.read_csv(usageFN,dtype={'FIPS':np.str})\n",
    "dfSupply = pd.read_csv(supplyFN,dtype={'FIPS':np.str})"
   ]
  },
  {
   "cell_type": "code",
   "execution_count": 17,
   "metadata": {
    "collapsed": true
   },
   "outputs": [],
   "source": [
    "#Add State FIPS codes columns\n",
    "dfUsage['STFIPS'] = dfUsage['FIPS'].apply(lambda x: str(x)[:2] )\n",
    "dfSupply['STFIPS'] = dfSupply['FIPS'].apply(lambda x: str(x)[:2] )"
   ]
  },
  {
   "cell_type": "code",
   "execution_count": 18,
   "metadata": {},
   "outputs": [],
   "source": [
    "#Load state FIPS lookup table and join state codes\n",
    "dfFIPS = pd.read_csv(stateFIPSFn,dtype=np.str)\n",
    "dfSupply = pd.merge(dfSupply,dfFIPS,how='left',left_on='STFIPS',right_on='state_fips')\n",
    "dfUsage = pd.merge(dfUsage,dfFIPS,how='left',left_on='STFIPS',right_on='state_fips')"
   ]
  },
  {
   "cell_type": "code",
   "execution_count": 19,
   "metadata": {
    "collapsed": true
   },
   "outputs": [],
   "source": [
    "#Compute supply as precip - et\n",
    "dfSupply['SUPPLY'] = dfSupply['pr'] - dfSupply['et']"
   ]
  },
  {
   "cell_type": "code",
   "execution_count": null,
   "metadata": {},
   "outputs": [],
   "source": [
    "#Drop the FIPS from the tables\n",
    "dfUsage.drop(['STFIPS','state_fips','FIPS'], axis=1, inplace = True)\n",
    "dfSupply.drop(['STFIPS','state_fips','FIPS','total_runoff','pr','et','smc'], axis=1, inplace = True)"
   ]
  },
  {
   "cell_type": "code",
   "execution_count": null,
   "metadata": {
    "collapsed": true
   },
   "outputs": [],
   "source": [
    "#Group the supply table on state\n",
    "grpSupply = dfSupply.groupby(['YEAR','state']).sum()"
   ]
  },
  {
   "cell_type": "code",
   "execution_count": null,
   "metadata": {
    "collapsed": true
   },
   "outputs": [],
   "source": [
    "#Group the usage table on state\n",
    "grpUsage = dfUsage.groupby(['YEAR','state']).sum()"
   ]
  },
  {
   "cell_type": "code",
   "execution_count": null,
   "metadata": {
    "collapsed": true
   },
   "outputs": [],
   "source": [
    "#join tables on year and fips\n",
    "dfX = pd.merge(grpSupply, grpUsage, how='outer',left_index=True,right_index=True)\n",
    "dfX.to_csv(outFN,na_rep=0)"
   ]
  },
  {
   "cell_type": "code",
   "execution_count": 25,
   "metadata": {},
   "outputs": [
    {
     "data": {
      "text/html": [
       "<div>\n",
       "<table border=\"1\" class=\"dataframe\">\n",
       "  <thead>\n",
       "    <tr style=\"text-align: right;\">\n",
       "      <th></th>\n",
       "      <th>YEAR</th>\n",
       "      <th>FIPS</th>\n",
       "      <th>Public</th>\n",
       "      <th>Domestic</th>\n",
       "      <th>Industry</th>\n",
       "      <th>Irrigation</th>\n",
       "      <th>Livestock</th>\n",
       "      <th>Aquaculture</th>\n",
       "      <th>Mining</th>\n",
       "      <th>Thermoelectic</th>\n",
       "      <th>TOTAL</th>\n",
       "      <th>STFIPS</th>\n",
       "      <th>state_fips</th>\n",
       "      <th>state</th>\n",
       "    </tr>\n",
       "  </thead>\n",
       "  <tbody>\n",
       "    <tr>\n",
       "      <th>0</th>\n",
       "      <td>2000</td>\n",
       "      <td>01001</td>\n",
       "      <td>5.70</td>\n",
       "      <td>2.95</td>\n",
       "      <td>28.29</td>\n",
       "      <td>NaN</td>\n",
       "      <td>NaN</td>\n",
       "      <td>0.0</td>\n",
       "      <td>NaN</td>\n",
       "      <td>0.0</td>\n",
       "      <td>37.25</td>\n",
       "      <td>01</td>\n",
       "      <td>01</td>\n",
       "      <td>AL</td>\n",
       "    </tr>\n",
       "    <tr>\n",
       "      <th>1</th>\n",
       "      <td>2000</td>\n",
       "      <td>01003</td>\n",
       "      <td>19.70</td>\n",
       "      <td>2.46</td>\n",
       "      <td>6.49</td>\n",
       "      <td>NaN</td>\n",
       "      <td>NaN</td>\n",
       "      <td>0.0</td>\n",
       "      <td>NaN</td>\n",
       "      <td>0.0</td>\n",
       "      <td>34.63</td>\n",
       "      <td>01</td>\n",
       "      <td>01</td>\n",
       "      <td>AL</td>\n",
       "    </tr>\n",
       "    <tr>\n",
       "      <th>2</th>\n",
       "      <td>2000</td>\n",
       "      <td>01005</td>\n",
       "      <td>4.85</td>\n",
       "      <td>0.51</td>\n",
       "      <td>0.94</td>\n",
       "      <td>NaN</td>\n",
       "      <td>NaN</td>\n",
       "      <td>0.0</td>\n",
       "      <td>NaN</td>\n",
       "      <td>0.0</td>\n",
       "      <td>7.42</td>\n",
       "      <td>01</td>\n",
       "      <td>01</td>\n",
       "      <td>AL</td>\n",
       "    </tr>\n",
       "    <tr>\n",
       "      <th>3</th>\n",
       "      <td>2000</td>\n",
       "      <td>01007</td>\n",
       "      <td>3.78</td>\n",
       "      <td>0.22</td>\n",
       "      <td>0.00</td>\n",
       "      <td>NaN</td>\n",
       "      <td>NaN</td>\n",
       "      <td>0.0</td>\n",
       "      <td>NaN</td>\n",
       "      <td>0.0</td>\n",
       "      <td>4.00</td>\n",
       "      <td>01</td>\n",
       "      <td>01</td>\n",
       "      <td>AL</td>\n",
       "    </tr>\n",
       "    <tr>\n",
       "      <th>4</th>\n",
       "      <td>2000</td>\n",
       "      <td>01009</td>\n",
       "      <td>31.81</td>\n",
       "      <td>0.38</td>\n",
       "      <td>0.00</td>\n",
       "      <td>NaN</td>\n",
       "      <td>NaN</td>\n",
       "      <td>0.0</td>\n",
       "      <td>NaN</td>\n",
       "      <td>0.0</td>\n",
       "      <td>32.26</td>\n",
       "      <td>01</td>\n",
       "      <td>01</td>\n",
       "      <td>AL</td>\n",
       "    </tr>\n",
       "  </tbody>\n",
       "</table>\n",
       "</div>"
      ],
      "text/plain": [
       "   YEAR   FIPS  Public  Domestic  Industry  Irrigation  Livestock  \\\n",
       "0  2000  01001    5.70      2.95     28.29         NaN        NaN   \n",
       "1  2000  01003   19.70      2.46      6.49         NaN        NaN   \n",
       "2  2000  01005    4.85      0.51      0.94         NaN        NaN   \n",
       "3  2000  01007    3.78      0.22      0.00         NaN        NaN   \n",
       "4  2000  01009   31.81      0.38      0.00         NaN        NaN   \n",
       "\n",
       "   Aquaculture  Mining  Thermoelectic  TOTAL STFIPS state_fips state  \n",
       "0          0.0     NaN            0.0  37.25     01         01    AL  \n",
       "1          0.0     NaN            0.0  34.63     01         01    AL  \n",
       "2          0.0     NaN            0.0   7.42     01         01    AL  \n",
       "3          0.0     NaN            0.0   4.00     01         01    AL  \n",
       "4          0.0     NaN            0.0  32.26     01         01    AL  "
      ]
     },
     "execution_count": 25,
     "metadata": {},
     "output_type": "execute_result"
    }
   ],
   "source": [
    "dfUsage.head()"
   ]
  }
 ],
 "metadata": {
  "kernelspec": {
   "display_name": "Python 2",
   "language": "python",
   "name": "python2"
  },
  "language_info": {
   "codemirror_mode": {
    "name": "ipython",
    "version": 2
   },
   "file_extension": ".py",
   "mimetype": "text/x-python",
   "name": "python",
   "nbconvert_exporter": "python",
   "pygments_lexer": "ipython2",
   "version": "2.7.12"
  }
 },
 "nbformat": 4,
 "nbformat_minor": 2
}
