{
 "cells": [
  {
   "cell_type": "markdown",
   "metadata": {},
   "source": [
    "## Fiona and Shapely Example"
   ]
  },
  {
   "cell_type": "markdown",
   "metadata": {},
   "source": [
    "https://macwright.org/2012/10/31/gis-with-python-shapely-fiona.html\n",
    "\n",
    "http://toblerity.org/shapely/manual.html\n",
    "\n",
    "http://toblerity.org/fiona/manual.html"
   ]
  },
  {
   "cell_type": "code",
   "execution_count": 1,
   "metadata": {},
   "outputs": [],
   "source": [
    "import sys, os, csv\n",
    "import fiona\n",
    "import shapely"
   ]
  },
  {
   "cell_type": "code",
   "execution_count": 17,
   "metadata": {},
   "outputs": [],
   "source": [
    "#get the filenames\n",
    "dataDir = \"../../Data\"\n",
    "fipsCSV = dataDir + os.sep + \"FIPS.csv\"\n",
    "dataCSV = dataDir + os.sep + \"Year2000.csv\"\n",
    "dataFN = dataDir + os.sep + \"Hydro.shp\"\n",
    "outCSV = dataDir + os.sep + \"Year2000_byState.csv\""
   ]
  },
  {
   "cell_type": "code",
   "execution_count": 3,
   "metadata": {
    "collapsed": true
   },
   "outputs": [],
   "source": [
    "import csv\n",
    "from shapely.geometry import Point, mapping\n",
    "from fiona import collection"
   ]
  },
  {
   "cell_type": "code",
   "execution_count": 18,
   "metadata": {},
   "outputs": [],
   "source": [
    "#Create output shapefile of lat/long and data\n",
    "schema = { 'geometry': 'Point', 'properties': { 'et': 'float', 'Precip': 'float' } }\n",
    "with collection(\n",
    "    dataFN, \"w\", \"ESRI Shapefile\", schema) as output:\n",
    "    with open(dataCSV, 'rb') as f:\n",
    "        reader = csv.DictReader(f)\n",
    "        for row in reader:\n",
    "            point = Point(float(row['Longitude']), float(row['Latitude']))\n",
    "            output.write({\n",
    "                'properties': {\n",
    "                    'et': row['ET'],\n",
    "                    'Precip': row['Precip']\n",
    "                },\n",
    "                'geometry': mapping(point)\n",
    "})"
   ]
  },
  {
   "cell_type": "code",
   "execution_count": null,
   "metadata": {
    "collapsed": true
   },
   "outputs": [],
   "source": [
    "#Overlay with county data\n",
    "##https://gis.stackexchange.com/questions/102933/more-efficient-spatial-join-in-python-without-qgis-arcgis-postgis-etc\n",
    "countyFN = dataDir + os.sep + \"cb_2016_us_county_500k.shp\"\n",
    "newFN = dataDir + os.sep + \"foo.shp\" \n",
    "with fiona.open(countyFN, 'r' as countyFC):\n",
    "    with fiona.open(dataFN, 'r' as dataFN):\n",
    "        outSchema = {'geometry': 'Point', 'properties': {'GEOID':'str:5', 'STATEFP':'str:2'}}\n",
    "        with fiona.open(newFN,'w','ESRI Shapefile',outSchema, crs) as output:\n",
    "            for point in dataFN:\n",
    "                if shape(point['geometry']).within(shape(poly['geometry'])):\n",
    "                    poly['properties']['score'] \n",
    "            "
   ]
  },
  {
   "cell_type": "code",
   "execution_count": 19,
   "metadata": {},
   "outputs": [
    {
     "ename": "ValueError",
     "evalue": "Record does not match collection schema: [u'et', u'Precip', 'GEOID'] != [u'NAME', u'ALAND', u'LSAD', u'AWATER', u'Precip', u'COUNTYFP', u'et', u'AFFGEOID', u'GEOID', u'STATEFP', u'COUNTYNS']",
     "output_type": "error",
     "traceback": [
      "\u001b[1;31m---------------------------------------------------------------------------\u001b[0m",
      "\u001b[1;31mValueError\u001b[0m                                Traceback (most recent call last)",
      "\u001b[1;32m<ipython-input-19-b5e8b38ac3d8>\u001b[0m in \u001b[0;36m<module>\u001b[1;34m()\u001b[0m\n\u001b[0;32m     26\u001b[0m                         output.write({                                 \n\u001b[0;32m     27\u001b[0m                             \u001b[1;34m'properties'\u001b[0m\u001b[1;33m:\u001b[0m \u001b[0mschool\u001b[0m\u001b[1;33m[\u001b[0m\u001b[1;34m'properties'\u001b[0m\u001b[1;33m]\u001b[0m\u001b[1;33m,\u001b[0m\u001b[1;33m\u001b[0m\u001b[0m\n\u001b[1;32m---> 28\u001b[1;33m                             \u001b[1;34m'geometry'\u001b[0m\u001b[1;33m:\u001b[0m \u001b[0mschool\u001b[0m\u001b[1;33m[\u001b[0m\u001b[1;34m'geometry'\u001b[0m\u001b[1;33m]\u001b[0m\u001b[1;33m\u001b[0m\u001b[0m\n\u001b[0m\u001b[0;32m     29\u001b[0m                         })\n",
      "\u001b[1;32mc:\\python27\\arcgis10.5\\lib\\site-packages\\fiona\\collection.pyc\u001b[0m in \u001b[0;36mwrite\u001b[1;34m(self, record)\u001b[0m\n\u001b[0;32m    339\u001b[0m     \u001b[1;32mdef\u001b[0m \u001b[0mwrite\u001b[0m\u001b[1;33m(\u001b[0m\u001b[0mself\u001b[0m\u001b[1;33m,\u001b[0m \u001b[0mrecord\u001b[0m\u001b[1;33m)\u001b[0m\u001b[1;33m:\u001b[0m\u001b[1;33m\u001b[0m\u001b[0m\n\u001b[0;32m    340\u001b[0m         \u001b[1;34m\"\"\"Stages a record for writing to disk.\"\"\"\u001b[0m\u001b[1;33m\u001b[0m\u001b[0m\n\u001b[1;32m--> 341\u001b[1;33m         \u001b[0mself\u001b[0m\u001b[1;33m.\u001b[0m\u001b[0mwriterecords\u001b[0m\u001b[1;33m(\u001b[0m\u001b[1;33m[\u001b[0m\u001b[0mrecord\u001b[0m\u001b[1;33m]\u001b[0m\u001b[1;33m)\u001b[0m\u001b[1;33m\u001b[0m\u001b[0m\n\u001b[0m\u001b[0;32m    342\u001b[0m \u001b[1;33m\u001b[0m\u001b[0m\n\u001b[0;32m    343\u001b[0m     \u001b[1;32mdef\u001b[0m \u001b[0mvalidate_record\u001b[0m\u001b[1;33m(\u001b[0m\u001b[0mself\u001b[0m\u001b[1;33m,\u001b[0m \u001b[0mrecord\u001b[0m\u001b[1;33m)\u001b[0m\u001b[1;33m:\u001b[0m\u001b[1;33m\u001b[0m\u001b[0m\n",
      "\u001b[1;32mc:\\python27\\arcgis10.5\\lib\\site-packages\\fiona\\collection.pyc\u001b[0m in \u001b[0;36mwriterecords\u001b[1;34m(self, records)\u001b[0m\n\u001b[0;32m    333\u001b[0m         \u001b[1;32mif\u001b[0m \u001b[0mself\u001b[0m\u001b[1;33m.\u001b[0m\u001b[0mmode\u001b[0m \u001b[1;32mnot\u001b[0m \u001b[1;32min\u001b[0m \u001b[1;33m(\u001b[0m\u001b[1;34m'a'\u001b[0m\u001b[1;33m,\u001b[0m \u001b[1;34m'w'\u001b[0m\u001b[1;33m)\u001b[0m\u001b[1;33m:\u001b[0m\u001b[1;33m\u001b[0m\u001b[0m\n\u001b[0;32m    334\u001b[0m             \u001b[1;32mraise\u001b[0m \u001b[0mIOError\u001b[0m\u001b[1;33m(\u001b[0m\u001b[1;34m\"collection not open for writing\"\u001b[0m\u001b[1;33m)\u001b[0m\u001b[1;33m\u001b[0m\u001b[0m\n\u001b[1;32m--> 335\u001b[1;33m         \u001b[0mself\u001b[0m\u001b[1;33m.\u001b[0m\u001b[0msession\u001b[0m\u001b[1;33m.\u001b[0m\u001b[0mwriterecs\u001b[0m\u001b[1;33m(\u001b[0m\u001b[0mrecords\u001b[0m\u001b[1;33m,\u001b[0m \u001b[0mself\u001b[0m\u001b[1;33m)\u001b[0m\u001b[1;33m\u001b[0m\u001b[0m\n\u001b[0m\u001b[0;32m    336\u001b[0m         \u001b[0mself\u001b[0m\u001b[1;33m.\u001b[0m\u001b[0m_len\u001b[0m \u001b[1;33m=\u001b[0m \u001b[0mself\u001b[0m\u001b[1;33m.\u001b[0m\u001b[0msession\u001b[0m\u001b[1;33m.\u001b[0m\u001b[0mget_length\u001b[0m\u001b[1;33m(\u001b[0m\u001b[1;33m)\u001b[0m\u001b[1;33m\u001b[0m\u001b[0m\n\u001b[0;32m    337\u001b[0m         \u001b[0mself\u001b[0m\u001b[1;33m.\u001b[0m\u001b[0m_bounds\u001b[0m \u001b[1;33m=\u001b[0m \u001b[0mself\u001b[0m\u001b[1;33m.\u001b[0m\u001b[0msession\u001b[0m\u001b[1;33m.\u001b[0m\u001b[0mget_extent\u001b[0m\u001b[1;33m(\u001b[0m\u001b[1;33m)\u001b[0m\u001b[1;33m\u001b[0m\u001b[0m\n",
      "\u001b[1;32mfiona\\ogrext.pyx\u001b[0m in \u001b[0;36mfiona.ogrext.WritingSession.writerecs (fiona/ogrext.c:17895)\u001b[1;34m()\u001b[0m\n",
      "\u001b[1;31mValueError\u001b[0m: Record does not match collection schema: [u'et', u'Precip', 'GEOID'] != [u'NAME', u'ALAND', u'LSAD', u'AWATER', u'Precip', u'COUNTYFP', u'et', u'AFFGEOID', u'GEOID', u'STATEFP', u'COUNTYNS']"
     ]
    }
   ],
   "source": [
    "##https://gis.stackexchange.com/questions/75524/is-there-a-python-option-to-join-attributes-by-location\n",
    "from shapely.geometry import shape\n",
    "from copy import deepcopy\n",
    "\n",
    "\n",
    "countyFN = dataDir + os.sep + \"cb_2016_us_county_500k.shp\"\n",
    "pointFN = dataDir + os.sep + \"Hydro.shp\"\n",
    "newFN = dataDir + os.sep + \"foo.shp\" \n",
    "\n",
    "with fiona.open(countyFN, \"r\") as n: \n",
    "\n",
    "    with fiona.open(pointFN, \"r\") as s:\n",
    "\n",
    "        # create a schema for the attributes\n",
    "        outSchema =  deepcopy(s.schema)\n",
    "        outSchema['properties'].update(n.schema['properties'])\n",
    "\n",
    "        with fiona.open (newFN, \"w\", s.driver, outSchema, s.crs) as output:\n",
    "\n",
    "            for school in s: \n",
    "                for neighborhood in n:\n",
    "                    # check if point is in polygon and set attribute\n",
    "                    if shape(school['geometry']).within(shape(neighborhood['geometry'])):  \n",
    "                        school['properties']['GEOID'] = neighborhood['properties']['GEOID'] \n",
    "                    # write out\n",
    "                        output.write({                                 \n",
    "                            'properties': school['properties'], \n",
    "                            'geometry': school['geometry']\n",
    "                        })"
   ]
  },
  {
   "cell_type": "code",
   "execution_count": 6,
   "metadata": {},
   "outputs": [
    {
     "name": "stderr",
     "output_type": "stream",
     "text": [
      "c:\\python27\\arcgis10.5\\lib\\site-packages\\ipykernel_launcher.py:3: DeprecationWarning: Collection.__next__() is buggy and will be removed in Fiona 2.0. Switch to `next(iter(collection))`.\n",
      "  This is separate from the ipykernel package so we can avoid doing imports until\n"
     ]
    }
   ],
   "source": [
    "countyFN = dataDir + os.sep + \"cb_2016_us_county_500k.shp\"\n",
    "countyFC = fiona.open(countyFN)\n",
    "f = next(iter(countyFC))"
   ]
  },
  {
   "cell_type": "code",
   "execution_count": 13,
   "metadata": {
    "scrolled": true
   },
   "outputs": [
    {
     "data": {
      "text/plain": [
       "{'geometry': {'coordinates': [[(-93.97076, 43.499604999999995),\n",
       "    (-93.8884300991026, 43.4995650036488),\n",
       "    (-93.85226386761639, 43.4995474338804),\n",
       "    (-93.79579299999999, 43.49952),\n",
       "    (-93.794285, 43.499542),\n",
       "    (-93.76849795694349, 43.4995489366181),\n",
       "    (-93.73395168488649, 43.4995582294361),\n",
       "    (-93.716217, 43.499562999999995),\n",
       "    (-93.7161238114128, 43.499563012515196),\n",
       "    (-93.708771, 43.499564),\n",
       "    (-93.704916, 43.499568),\n",
       "    (-93.699345, 43.499576),\n",
       "    (-93.69774811049359, 43.49957545614001),\n",
       "    (-93.6485330413135, 43.4995586947376),\n",
       "    (-93.617131, 43.499548),\n",
       "    (-93.61691080650239, 43.499547847402006),\n",
       "    (-93.6045520677199, 43.4995392825755),\n",
       "    (-93.576728, 43.49952),\n",
       "    (-93.55863099999999, 43.499521),\n",
       "    (-93.532178, 43.499472),\n",
       "    (-93.5284830459956, 43.499471000283),\n",
       "    (-93.528482, 43.499471),\n",
       "    (-93.4984250755418, 43.499456492362),\n",
       "    (-93.497405, 43.499455999999995),\n",
       "    (-93.4973499498203, 43.499455765205894),\n",
       "    (-93.49754, 43.444700000000005),\n",
       "    (-93.49769599999999, 43.430133999999995),\n",
       "    (-93.497699, 43.422778),\n",
       "    (-93.497604, 43.40923),\n",
       "    (-93.497821, 43.408300000000004),\n",
       "    (-93.497585, 43.379258),\n",
       "    (-93.49756, 43.357518999999996),\n",
       "    (-93.497485, 43.343005999999995),\n",
       "    (-93.49764499999999, 43.313235999999996),\n",
       "    (-93.497625, 43.299064),\n",
       "    (-93.497635, 43.255468),\n",
       "    (-93.616953, 43.255621999999995),\n",
       "    (-93.62180000000001, 43.255627),\n",
       "    (-93.622625, 43.255624999999995),\n",
       "    (-93.63237199999999, 43.255461),\n",
       "    (-93.641459, 43.25561),\n",
       "    (-93.64265499999999, 43.255514999999995),\n",
       "    (-93.656076, 43.255514999999995),\n",
       "    (-93.73371399999999, 43.255465),\n",
       "    (-93.744976, 43.25548),\n",
       "    (-93.755113, 43.25551),\n",
       "    (-93.852173, 43.255328999999996),\n",
       "    (-93.960881, 43.255300999999996),\n",
       "    (-93.970415, 43.255358),\n",
       "    (-93.970379, 43.269822999999995),\n",
       "    (-93.970259, 43.298615),\n",
       "    (-93.970693, 43.342245),\n",
       "    (-93.970575, 43.400031999999996),\n",
       "    (-93.97054299999999, 43.429708),\n",
       "    (-93.97054299999999, 43.444151999999995),\n",
       "    (-93.97076155853709, 43.49960500889429),\n",
       "    (-93.97076, 43.499604999999995)]],\n",
       "  'type': 'Polygon'},\n",
       " 'id': '1',\n",
       " 'properties': OrderedDict([(u'STATEFP', u'19'),\n",
       "              (u'COUNTYFP', u'189'),\n",
       "              (u'COUNTYNS', u'00465283'),\n",
       "              (u'AFFGEOID', u'0500000US19189'),\n",
       "              (u'GEOID', u'19189'),\n",
       "              (u'NAME', u'Winnebago'),\n",
       "              (u'LSAD', u'06'),\n",
       "              (u'ALAND', 1037261946L),\n",
       "              (u'AWATER', 3182052L)]),\n",
       " 'type': 'Feature'}"
      ]
     },
     "execution_count": 13,
     "metadata": {},
     "output_type": "execute_result"
    }
   ],
   "source": [
    "#f['properties'].items()\n",
    "countyFC[1]"
   ]
  }
 ],
 "metadata": {
  "kernelspec": {
   "display_name": "Python 2",
   "language": "python",
   "name": "python2"
  },
  "language_info": {
   "codemirror_mode": {
    "name": "ipython",
    "version": 2
   },
   "file_extension": ".py",
   "mimetype": "text/x-python",
   "name": "python",
   "nbconvert_exporter": "python",
   "pygments_lexer": "ipython2",
   "version": "2.7.12"
  }
 },
 "nbformat": 4,
 "nbformat_minor": 1
}
