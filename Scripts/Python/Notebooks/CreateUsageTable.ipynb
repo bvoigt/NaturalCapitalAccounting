{
 "cells": [
  {
   "cell_type": "markdown",
   "metadata": {},
   "source": [
    "### Import USGS use data & Create usage table\n",
    "Here we download the raw usage data for years 2000, 2005, and 2010 from the USGS usage site and synthesize all data into a flat table listing: year, FIPS code, and total annual withdrawals by sector in MGal/day (*so these need to be ajdusted for yearly sums!)\n",
    "\n",
    "The steps required include:\n",
    "* Pulling the raw data file, in tab-delimted format, from the USGS server into a pandas dataframe.\n",
    "* Adjusting field names so that merging tables is seamless. This includes:\n",
    "    * Adding year columns to 2000 and 2005 datasets.\n",
    "    * For year 2000, remapping 'IT', 'LA', 'LS', and 'PE' fields to 'IC', 'AQ', 'LI' and 'PC', respectively([reference]( https://water.usgs.gov/watuse/data/2000/datadict.html)).\n",
    "        * IT -> IC (Irrigated cropland)\n",
    "        * LA -> AQ (Aquaculture)\n",
    "        * LS -> LI (Livestock)\n",
    "        * PE -> PC (Thermoelectric power closed-loop)\n",
    "    * For year 2005, remapping 'LA' and 'LS' fields to 'AQ' and 'LI', respectively([reference]( https://water.usgs.gov/watuse/data/2005/datadict.html)). \n",
    "        * LA -> AQ (Aquaculture)\n",
    "        * LS -> LI (Livestock)\n",
    "* Concatenating all dataframes into a single dataframe, with records tagged by the year of the dataset.\n",
    "* Removing extraneous fields, keeping only the sector total columns:\n",
    "    * Care must be taken that the FIPS codes are preserved as text, not numbers\n",
    "    \n",
    "The resulting table will be formatted as follows:\n",
    "\n",
    "| YEAR | FIPS | Public | Domestic | Industry | Irrigation | Livestock | Aquaculture | Mining | Thermoelectric | *TOTAL* |\n",
    "| :---: | :---: | :---: | :---: | :---: | :---: | :---: | :---: | :---: | :---: | :---: | \n",
    "| 2000 | 01001 | 0.00 | 0.00 |0.00 |0.00 |0.00 |0.00 |0.00 |0.00 |*0.00* |\n",
    "\n",
    "This table and then be joined, by FIPS code, to other accounting data tables and summarized by state. \n"
   ]
  },
  {
   "cell_type": "code",
   "execution_count": 1,
   "metadata": {
    "collapsed": true
   },
   "outputs": [],
   "source": [
    "#Import modules\n",
    "import os\n",
    "import pandas as pd\n",
    "import numpy as np"
   ]
  },
  {
   "cell_type": "code",
   "execution_count": 2,
   "metadata": {
    "collapsed": true
   },
   "outputs": [],
   "source": [
    "#Set the output location and filename\n",
    "dataDir = '../../Data'\n",
    "outFN = 'AllUsageData.csv'"
   ]
  },
  {
   "cell_type": "code",
   "execution_count": 3,
   "metadata": {
    "collapsed": true
   },
   "outputs": [],
   "source": [
    "#Define the function to retrieve data and fix field name issues\n",
    "def getData(year):\n",
    "    print \"Retrieving data for {}\".format(year)\n",
    "    \n",
    "    #Create a dictionary of proper dtypes (avoids converting FIPS to numeric types)\n",
    "    formatDict = {'STATEFIPS':str,'COUNTYFIPS':str,'FIPS':str}\n",
    "\n",
    "    #Set the base URL to be used to get any annual dataset\n",
    "    theBaseURL = 'http://water.usgs.gov/watuse/data/{0}/usco{0}.txt' \n",
    "    \n",
    "    #Retrieve the data\n",
    "    df = pd.read_table(theBaseURL.format(year),dtype=formatDict)\n",
    "    \n",
    "    #Remap the IT-, LA-, and LS- columns to IC-, AQ-, and LI-\n",
    "    fldsIn = ('IT-','LA-','LS-','PE','Wtotl')\n",
    "    fldsOut = ('IC-','AQ-','LI-','PC','WTotl')\n",
    "\n",
    "    #Get the current column names as a list\n",
    "    colNames = df.columns.values.tolist()\n",
    "\n",
    "    #Create a revised column name list\n",
    "    for inFld,outFld in zip(fldsIn,fldsOut):\n",
    "        #This loops through each item in colNames and replaces it with a revised one\n",
    "        colNames_update = [x.replace(inFld,outFld) for x in colNames]\n",
    "        colNames = colNames_update\n",
    "\n",
    "    #Update the column names in the data frame\n",
    "    df.columns = colNames\n",
    "    \n",
    "    #Add year field, if not present\n",
    "    if \"YEAR\" not in df.columns.values: \n",
    "        df.insert(4,\"YEAR\",year)\n",
    "        \n",
    "    #Remove unnamed columns\n",
    "    if \"Unnamed\" in df.columns.values[-1]:\n",
    "        df.drop(df.columns.values[-1],axis=1,inplace=True)\n",
    "        \n",
    "    #Return the updated dataframe\n",
    "    return df"
   ]
  },
  {
   "cell_type": "code",
   "execution_count": 4,
   "metadata": {},
   "outputs": [
    {
     "name": "stdout",
     "output_type": "stream",
     "text": [
      "Retrieving data for 2000\n",
      "Retrieving data for 2005\n",
      "Retrieving data for 2010\n"
     ]
    }
   ],
   "source": [
    "#Retrieve the data into a dataframe\n",
    "df2000 = getData(2000)\n",
    "df2005 = getData(2005)\n",
    "df2010 = getData(2010)"
   ]
  },
  {
   "cell_type": "code",
   "execution_count": 5,
   "metadata": {},
   "outputs": [],
   "source": [
    "#Merge the tables into one\n",
    "df = pd.concat([df2000, df2005,df2010])"
   ]
  },
  {
   "cell_type": "code",
   "execution_count": 6,
   "metadata": {},
   "outputs": [
    {
     "name": "stdout",
     "output_type": "stream",
     "text": [
      "True\n",
      "True\n",
      "True\n"
     ]
    }
   ],
   "source": [
    "#Check that the final merge contains all yearly columns\n",
    "s00 = set(df2000.columns.values.tolist())\n",
    "s05 = set(df2005.columns.values.tolist())\n",
    "s10 = set(df2010.columns.values.tolist())\n",
    "sXX = set(df.columns.values.tolist())\n",
    "print s00.issubset(sXX)\n",
    "print s05.issubset(sXX)\n",
    "print s10.issubset(sXX)"
   ]
  },
  {
   "cell_type": "code",
   "execution_count": 7,
   "metadata": {},
   "outputs": [],
   "source": [
    "#Subset and rename columns (FRESH WATER ONLY)\n",
    "\n",
    "#Create lists of columns to keep and names to assign\n",
    "useFields = ['YEAR','FIPS','PS-WFrTo','DO-WFrTo','IN-WTotl','IR-WFrTo','LI-WFrTo','AQ-WFrTo','MI-WFrTo','PT-WFrTo','TO-WFrTo']\n",
    "useNames = ['YEAR','FIPS','Public','Domestic','Industry','Irrigation','Livestock','Aquaculture','Mining','Thermoelectic','TOTAL']\n",
    "\n",
    "#Subset columns in the list\n",
    "dfUsage = df[useFields]\n",
    "\n",
    "#Rename the columns\n",
    "dfUsage.columns = useNames"
   ]
  },
  {
   "cell_type": "code",
   "execution_count": null,
   "metadata": {
    "collapsed": true
   },
   "outputs": [],
   "source": [
    "#Fix FIPS column\n",
    "dfUsage['FIPS'] = df['FIPS'].apply(lambda x: str(x).zfill(5))"
   ]
  },
  {
   "cell_type": "code",
   "execution_count": 8,
   "metadata": {},
   "outputs": [],
   "source": [
    "#Save as a CSV file\n",
    "dfUsage.to_csv(outFN,index_label=\"KEY\")"
   ]
  },
  {
   "cell_type": "code",
   "execution_count": 9,
   "metadata": {},
   "outputs": [],
   "source": [
    "#Example of extracting state records, NC = FIPS 37\n",
    "fips = '37'\n",
    "fipsFilter = dfUsage['FIPS'].str.startswith(fips,na=False)"
   ]
  }
 ],
 "metadata": {
  "kernelspec": {
   "display_name": "Python 2",
   "language": "python",
   "name": "python2"
  },
  "language_info": {
   "codemirror_mode": {
    "name": "ipython",
    "version": 2
   },
   "file_extension": ".py",
   "mimetype": "text/x-python",
   "name": "python",
   "nbconvert_exporter": "python",
   "pygments_lexer": "ipython2",
   "version": "2.7.12"
  }
 },
 "nbformat": 4,
 "nbformat_minor": 2
}
