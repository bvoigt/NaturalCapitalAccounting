{
 "cells": [
  {
   "cell_type": "markdown",
   "metadata": {},
   "source": [
    "## Create FIPS csv\n",
    "\n",
    "* Creates a csv file of state and county FIPS codes for each location, defined by coordinate pairs. This works by creating a point feature class (using the ArcPy module) and doing a spatial join with a feature class of counties. \n",
    "* Requires*: ArcPy"
   ]
  },
  {
   "cell_type": "code",
   "execution_count": 1,
   "metadata": {
    "collapsed": true
   },
   "outputs": [],
   "source": [
    "#Import libraries\n",
    "import sys, os, csv\n",
    "import arcpy\n",
    "import numpy as np"
   ]
  },
  {
   "cell_type": "code",
   "execution_count": 2,
   "metadata": {
    "collapsed": true
   },
   "outputs": [],
   "source": [
    "#Enable overwriting of output (for debugging)\n",
    "arcpy.env.overwriteOutput = True"
   ]
  },
  {
   "cell_type": "code",
   "execution_count": 3,
   "metadata": {
    "collapsed": true
   },
   "outputs": [],
   "source": [
    "#Get the county shapefile in the Data dir\n",
    "countyFC = \"../../Data/cb_2016_us_county_500k.shp\""
   ]
  },
  {
   "cell_type": "code",
   "execution_count": 4,
   "metadata": {
    "collapsed": true
   },
   "outputs": [],
   "source": [
    "#Get the csv file with coordinates\n",
    "csvFile = \"../../Data/Year2000.csv\""
   ]
  },
  {
   "cell_type": "code",
   "execution_count": 5,
   "metadata": {
    "collapsed": true
   },
   "outputs": [],
   "source": [
    "#Create an XY Event layer from the CSV file\n",
    "xyEventLayer = arcpy.MakeXYEventLayer_management(csvFile,\"Longitude\",\"Latitude\",\"XY_Lyr\")"
   ]
  },
  {
   "cell_type": "code",
   "execution_count": 6,
   "metadata": {
    "collapsed": true
   },
   "outputs": [],
   "source": [
    "#Create a feature class from the event layer\n",
    "xyFeatureClass = arcpy.CopyFeatures_management(xyEventLayer,\"in_memory/XYFeatures\")"
   ]
  },
  {
   "cell_type": "code",
   "execution_count": 7,
   "metadata": {},
   "outputs": [],
   "source": [
    "#Spatial join with countyFC (this takes a moment...)\n",
    "outJoinFC = \"in_memory/JoinFC\"\n",
    "joinFC = arcpy.SpatialJoin_analysis(xyFeatureClass,countyFC,outJoinFC)"
   ]
  },
  {
   "cell_type": "code",
   "execution_count": 8,
   "metadata": {},
   "outputs": [],
   "source": [
    "#Convert table to numpy array (Set null values to -1)\n",
    "nullDict = {'GEOID':-1,'STATEFP':-1}\n",
    "np1 = arcpy.da.TableToNumPyArray(joinFC,['GEOID','STATEFP'],null_value=nullDict)"
   ]
  },
  {
   "cell_type": "code",
   "execution_count": 9,
   "metadata": {},
   "outputs": [],
   "source": [
    "#Combine the GEOID and STATEFP into a 2d array\n",
    "npX = np.vstack([np1[\"GEOID\"], np1[\"STATEFP\"]])"
   ]
  },
  {
   "cell_type": "code",
   "execution_count": 10,
   "metadata": {},
   "outputs": [],
   "source": [
    "#Write to a file\n",
    "np.savetxt(\"../../Data/FIPS.csv\",\n",
    "           npX.T,delimiter=',',\n",
    "           fmt='%s',\n",
    "           header=u\"COFIPS, STATEFIPS\")"
   ]
  }
 ],
 "metadata": {
  "kernelspec": {
   "display_name": "Python 2",
   "language": "python",
   "name": "python2"
  },
  "language_info": {
   "codemirror_mode": {
    "name": "ipython",
    "version": 2
   },
   "file_extension": ".py",
   "mimetype": "text/x-python",
   "name": "python",
   "nbconvert_exporter": "python",
   "pygments_lexer": "ipython2",
   "version": "2.7.12"
  }
 },
 "nbformat": 4,
 "nbformat_minor": 2
}
