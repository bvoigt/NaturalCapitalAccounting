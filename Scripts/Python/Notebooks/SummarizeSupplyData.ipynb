{
 "cells": [
  {
   "cell_type": "code",
   "execution_count": 1,
   "metadata": {
    "collapsed": true
   },
   "outputs": [],
   "source": [
    "#Import libraries\n",
    "import sys, os\n",
    "import pandas as pd\n",
    "import numpy as np"
   ]
  },
  {
   "cell_type": "code",
   "execution_count": 4,
   "metadata": {
    "collapsed": true
   },
   "outputs": [],
   "source": [
    "#Set the filenames\n",
    "dataDir = \"../../Data\"\n",
    "dataFN = dataDir + os.sep + \"HydroData.csv\"\n",
    "outFN = dataDir + os.sep + \"StateSupply.csv\""
   ]
  },
  {
   "cell_type": "code",
   "execution_count": 7,
   "metadata": {},
   "outputs": [
    {
     "data": {
      "text/plain": [
       "YEAR          object\n",
       "LONGITUDE    float64\n",
       "LATITUDE     float64\n",
       "COFIPS        object\n",
       "STFIPS        object\n",
       "RUNOFF       float64\n",
       "PRECIP       float64\n",
       "ET           float64\n",
       "SME          float64\n",
       "dtype: object"
      ]
     },
     "execution_count": 7,
     "metadata": {},
     "output_type": "execute_result"
    }
   ],
   "source": [
    "#Create dataframe from HydroData.csv\n",
    "dfData = pd.read_csv(dataFN,dtype={'YEAR':str,'COFIPS':str,'STFIPS':str})\n",
    "dfData.dtypes"
   ]
  },
  {
   "cell_type": "code",
   "execution_count": 8,
   "metadata": {
    "collapsed": true
   },
   "outputs": [],
   "source": [
    "#Add supply column as precipition minus evapotranspiration (Brown, 2008)\n",
    "dfData['SUPPLY'] = dfData['PRECIP'] - dfData['ET']"
   ]
  },
  {
   "cell_type": "code",
   "execution_count": 23,
   "metadata": {},
   "outputs": [],
   "source": [
    "#Remove records with no state fips \n",
    "dfData = dfData[dfData.STFIPS != '-1']"
   ]
  },
  {
   "cell_type": "code",
   "execution_count": 26,
   "metadata": {},
   "outputs": [
    {
     "data": {
      "text/html": [
       "<div>\n",
       "<table border=\"1\" class=\"dataframe\">\n",
       "  <thead>\n",
       "    <tr style=\"text-align: right;\">\n",
       "      <th>YEAR</th>\n",
       "      <th>2000</th>\n",
       "      <th>2005</th>\n",
       "      <th>2010</th>\n",
       "    </tr>\n",
       "    <tr>\n",
       "      <th>STFIPS</th>\n",
       "      <th></th>\n",
       "      <th></th>\n",
       "      <th></th>\n",
       "    </tr>\n",
       "  </thead>\n",
       "  <tbody>\n",
       "    <tr>\n",
       "      <th>01</th>\n",
       "      <td>348109.728027</td>\n",
       "      <td>525026.618408</td>\n",
       "      <td>8.663139e+05</td>\n",
       "    </tr>\n",
       "    <tr>\n",
       "      <th>04</th>\n",
       "      <td>180445.968239</td>\n",
       "      <td>184165.971001</td>\n",
       "      <td>2.123547e+05</td>\n",
       "    </tr>\n",
       "    <tr>\n",
       "      <th>05</th>\n",
       "      <td>316665.503052</td>\n",
       "      <td>410542.824036</td>\n",
       "      <td>5.836946e+05</td>\n",
       "    </tr>\n",
       "    <tr>\n",
       "      <th>06</th>\n",
       "      <td>708780.694885</td>\n",
       "      <td>635773.806156</td>\n",
       "      <td>1.279900e+06</td>\n",
       "    </tr>\n",
       "    <tr>\n",
       "      <th>08</th>\n",
       "      <td>130638.774048</td>\n",
       "      <td>72941.746185</td>\n",
       "      <td>2.318621e+05</td>\n",
       "    </tr>\n",
       "  </tbody>\n",
       "</table>\n",
       "</div>"
      ],
      "text/plain": [
       "YEAR             2000           2005          2010\n",
       "STFIPS                                            \n",
       "01      348109.728027  525026.618408  8.663139e+05\n",
       "04      180445.968239  184165.971001  2.123547e+05\n",
       "05      316665.503052  410542.824036  5.836946e+05\n",
       "06      708780.694885  635773.806156  1.279900e+06\n",
       "08      130638.774048   72941.746185  2.318621e+05"
      ]
     },
     "execution_count": 26,
     "metadata": {},
     "output_type": "execute_result"
    }
   ],
   "source": [
    "#Pivot data, summing yearly supply values for each state\n",
    "pvData = dfData.pivot_table(index=('FIPS'),columns=('YEAR'),values=('SUPPLY'),aggfunc=np.sum)\n",
    "pvData.head()"
   ]
  },
  {
   "cell_type": "code",
   "execution_count": 27,
   "metadata": {
    "collapsed": true
   },
   "outputs": [],
   "source": [
    "#Add FIPS as column (from index)\n",
    "pvData[\"STFIPS\"] = pvData.index.values"
   ]
  },
  {
   "cell_type": "code",
   "execution_count": 37,
   "metadata": {},
   "outputs": [
    {
     "data": {
      "text/html": [
       "<div>\n",
       "<table border=\"1\" class=\"dataframe\">\n",
       "  <thead>\n",
       "    <tr style=\"text-align: right;\">\n",
       "      <th></th>\n",
       "      <th>STFIPS</th>\n",
       "      <th>2000</th>\n",
       "      <th>2005</th>\n",
       "      <th>2010</th>\n",
       "    </tr>\n",
       "    <tr>\n",
       "      <th>STFIPS</th>\n",
       "      <th></th>\n",
       "      <th></th>\n",
       "      <th></th>\n",
       "      <th></th>\n",
       "    </tr>\n",
       "  </thead>\n",
       "  <tbody>\n",
       "    <tr>\n",
       "      <th>01</th>\n",
       "      <td>01</td>\n",
       "      <td>348109.728027</td>\n",
       "      <td>525026.618408</td>\n",
       "      <td>8.663139e+05</td>\n",
       "    </tr>\n",
       "    <tr>\n",
       "      <th>04</th>\n",
       "      <td>04</td>\n",
       "      <td>180445.968239</td>\n",
       "      <td>184165.971001</td>\n",
       "      <td>2.123547e+05</td>\n",
       "    </tr>\n",
       "    <tr>\n",
       "      <th>05</th>\n",
       "      <td>05</td>\n",
       "      <td>316665.503052</td>\n",
       "      <td>410542.824036</td>\n",
       "      <td>5.836946e+05</td>\n",
       "    </tr>\n",
       "    <tr>\n",
       "      <th>06</th>\n",
       "      <td>06</td>\n",
       "      <td>708780.694885</td>\n",
       "      <td>635773.806156</td>\n",
       "      <td>1.279900e+06</td>\n",
       "    </tr>\n",
       "    <tr>\n",
       "      <th>08</th>\n",
       "      <td>08</td>\n",
       "      <td>130638.774048</td>\n",
       "      <td>72941.746185</td>\n",
       "      <td>2.318621e+05</td>\n",
       "    </tr>\n",
       "  </tbody>\n",
       "</table>\n",
       "</div>"
      ],
      "text/plain": [
       "       STFIPS           2000           2005          2010\n",
       "STFIPS                                                   \n",
       "01         01  348109.728027  525026.618408  8.663139e+05\n",
       "04         04  180445.968239  184165.971001  2.123547e+05\n",
       "05         05  316665.503052  410542.824036  5.836946e+05\n",
       "06         06  708780.694885  635773.806156  1.279900e+06\n",
       "08         08  130638.774048   72941.746185  2.318621e+05"
      ]
     },
     "execution_count": 37,
     "metadata": {},
     "output_type": "execute_result"
    }
   ],
   "source": [
    "#Reorder columns\n",
    "pvData = pd.DataFrame(pvData,columns=[\"STFIPS\",\"2000\",\"2005\",\"2010\"])\n",
    "pvData.head()"
   ]
  },
  {
   "cell_type": "code",
   "execution_count": 39,
   "metadata": {
    "collapsed": true
   },
   "outputs": [],
   "source": [
    "#Save as csv file\n",
    "pvData.to_csv(outFN,index=False)"
   ]
  },
  {
   "cell_type": "code",
   "execution_count": 70,
   "metadata": {},
   "outputs": [
    {
     "data": {
      "text/html": [
       "<div>\n",
       "<table border=\"1\" class=\"dataframe\">\n",
       "  <thead>\n",
       "    <tr style=\"text-align: right;\">\n",
       "      <th>STFIPS</th>\n",
       "      <th>01</th>\n",
       "      <th>04</th>\n",
       "      <th>05</th>\n",
       "      <th>06</th>\n",
       "      <th>08</th>\n",
       "      <th>09</th>\n",
       "      <th>10</th>\n",
       "      <th>11</th>\n",
       "      <th>12</th>\n",
       "      <th>13</th>\n",
       "      <th>...</th>\n",
       "      <th>46</th>\n",
       "      <th>47</th>\n",
       "      <th>48</th>\n",
       "      <th>49</th>\n",
       "      <th>50</th>\n",
       "      <th>51</th>\n",
       "      <th>53</th>\n",
       "      <th>54</th>\n",
       "      <th>55</th>\n",
       "      <th>56</th>\n",
       "    </tr>\n",
       "    <tr>\n",
       "      <th>YEAR</th>\n",
       "      <th></th>\n",
       "      <th></th>\n",
       "      <th></th>\n",
       "      <th></th>\n",
       "      <th></th>\n",
       "      <th></th>\n",
       "      <th></th>\n",
       "      <th></th>\n",
       "      <th></th>\n",
       "      <th></th>\n",
       "      <th></th>\n",
       "      <th></th>\n",
       "      <th></th>\n",
       "      <th></th>\n",
       "      <th></th>\n",
       "      <th></th>\n",
       "      <th></th>\n",
       "      <th></th>\n",
       "      <th></th>\n",
       "      <th></th>\n",
       "      <th></th>\n",
       "    </tr>\n",
       "  </thead>\n",
       "  <tbody>\n",
       "    <tr>\n",
       "      <th>2000</th>\n",
       "      <td>348109.728027</td>\n",
       "      <td>180445.968239</td>\n",
       "      <td>316665.503052</td>\n",
       "      <td>7.087807e+05</td>\n",
       "      <td>130638.774048</td>\n",
       "      <td>42679.395447</td>\n",
       "      <td>14122.252686</td>\n",
       "      <td>689.572754</td>\n",
       "      <td>356019.569122</td>\n",
       "      <td>449095.094208</td>\n",
       "      <td>...</td>\n",
       "      <td>68281.358856</td>\n",
       "      <td>258419.154541</td>\n",
       "      <td>238941.681809</td>\n",
       "      <td>70842.024147</td>\n",
       "      <td>56613.812561</td>\n",
       "      <td>388867.412354</td>\n",
       "      <td>864745.653725</td>\n",
       "      <td>130159.021362</td>\n",
       "      <td>198746.165985</td>\n",
       "      <td>103895.876190</td>\n",
       "    </tr>\n",
       "    <tr>\n",
       "      <th>2005</th>\n",
       "      <td>525026.618408</td>\n",
       "      <td>184165.971001</td>\n",
       "      <td>410542.824036</td>\n",
       "      <td>6.357738e+05</td>\n",
       "      <td>72941.746185</td>\n",
       "      <td>51709.857239</td>\n",
       "      <td>10534.726501</td>\n",
       "      <td>439.211548</td>\n",
       "      <td>275534.552002</td>\n",
       "      <td>419812.982483</td>\n",
       "      <td>...</td>\n",
       "      <td>81525.379181</td>\n",
       "      <td>420197.061829</td>\n",
       "      <td>404629.702347</td>\n",
       "      <td>46771.695152</td>\n",
       "      <td>101988.209106</td>\n",
       "      <td>251289.408936</td>\n",
       "      <td>771265.903221</td>\n",
       "      <td>192198.005737</td>\n",
       "      <td>398719.854950</td>\n",
       "      <td>66448.061554</td>\n",
       "    </tr>\n",
       "    <tr>\n",
       "      <th>2010</th>\n",
       "      <td>866313.863098</td>\n",
       "      <td>212354.723244</td>\n",
       "      <td>583694.641479</td>\n",
       "      <td>1.279900e+06</td>\n",
       "      <td>231862.069794</td>\n",
       "      <td>89411.343079</td>\n",
       "      <td>22674.397705</td>\n",
       "      <td>887.298279</td>\n",
       "      <td>562812.684570</td>\n",
       "      <td>826830.644104</td>\n",
       "      <td>...</td>\n",
       "      <td>20682.055817</td>\n",
       "      <td>609409.510681</td>\n",
       "      <td>925375.384689</td>\n",
       "      <td>166693.012939</td>\n",
       "      <td>99148.700684</td>\n",
       "      <td>463996.570526</td>\n",
       "      <td>717873.208557</td>\n",
       "      <td>232463.653259</td>\n",
       "      <td>278303.124451</td>\n",
       "      <td>210816.900482</td>\n",
       "    </tr>\n",
       "  </tbody>\n",
       "</table>\n",
       "<p>3 rows × 49 columns</p>\n",
       "</div>"
      ],
      "text/plain": [
       "STFIPS             01             04             05            06  \\\n",
       "YEAR                                                                \n",
       "2000    348109.728027  180445.968239  316665.503052  7.087807e+05   \n",
       "2005    525026.618408  184165.971001  410542.824036  6.357738e+05   \n",
       "2010    866313.863098  212354.723244  583694.641479  1.279900e+06   \n",
       "\n",
       "STFIPS             08            09            10          11             12  \\\n",
       "YEAR                                                                           \n",
       "2000    130638.774048  42679.395447  14122.252686  689.572754  356019.569122   \n",
       "2005     72941.746185  51709.857239  10534.726501  439.211548  275534.552002   \n",
       "2010    231862.069794  89411.343079  22674.397705  887.298279  562812.684570   \n",
       "\n",
       "STFIPS             13      ...                  46             47  \\\n",
       "YEAR                       ...                                      \n",
       "2000    449095.094208      ...        68281.358856  258419.154541   \n",
       "2005    419812.982483      ...        81525.379181  420197.061829   \n",
       "2010    826830.644104      ...        20682.055817  609409.510681   \n",
       "\n",
       "STFIPS             48             49             50             51  \\\n",
       "YEAR                                                                 \n",
       "2000    238941.681809   70842.024147   56613.812561  388867.412354   \n",
       "2005    404629.702347   46771.695152  101988.209106  251289.408936   \n",
       "2010    925375.384689  166693.012939   99148.700684  463996.570526   \n",
       "\n",
       "STFIPS             53             54             55             56  \n",
       "YEAR                                                                \n",
       "2000    864745.653725  130159.021362  198746.165985  103895.876190  \n",
       "2005    771265.903221  192198.005737  398719.854950   66448.061554  \n",
       "2010    717873.208557  232463.653259  278303.124451  210816.900482  \n",
       "\n",
       "[3 rows x 49 columns]"
      ]
     },
     "execution_count": 70,
     "metadata": {},
     "output_type": "execute_result"
    }
   ],
   "source": [
    "#Create a supply table for 2000\n",
    "df2000 = dfData[dfData.YEAR == '2000']\n",
    "pv2000 = dfData.pivot_table(index=('STFIPS'),columns=('YEAR'),values=('SUPPLY'),aggfunc=np.sum).T\n",
    "pv2000.head()"
   ]
  },
  {
   "cell_type": "code",
   "execution_count": 80,
   "metadata": {},
   "outputs": [
    {
     "data": {
      "text/html": [
       "<div>\n",
       "<table border=\"1\" class=\"dataframe\">\n",
       "  <thead>\n",
       "    <tr style=\"text-align: right;\">\n",
       "      <th>STFIPS</th>\n",
       "      <th>01</th>\n",
       "      <th>04</th>\n",
       "      <th>05</th>\n",
       "      <th>06</th>\n",
       "      <th>08</th>\n",
       "      <th>09</th>\n",
       "      <th>10</th>\n",
       "      <th>11</th>\n",
       "      <th>12</th>\n",
       "      <th>13</th>\n",
       "      <th>...</th>\n",
       "      <th>46</th>\n",
       "      <th>47</th>\n",
       "      <th>48</th>\n",
       "      <th>49</th>\n",
       "      <th>50</th>\n",
       "      <th>51</th>\n",
       "      <th>53</th>\n",
       "      <th>54</th>\n",
       "      <th>55</th>\n",
       "      <th>56</th>\n",
       "    </tr>\n",
       "  </thead>\n",
       "  <tbody>\n",
       "    <tr>\n",
       "      <th>2000</th>\n",
       "      <td>348109.728027</td>\n",
       "      <td>180445.968239</td>\n",
       "      <td>316665.503052</td>\n",
       "      <td>708780.694885</td>\n",
       "      <td>130638.774048</td>\n",
       "      <td>42679.395447</td>\n",
       "      <td>14122.252686</td>\n",
       "      <td>689.572754</td>\n",
       "      <td>356019.569122</td>\n",
       "      <td>449095.094208</td>\n",
       "      <td>...</td>\n",
       "      <td>68281.358856</td>\n",
       "      <td>258419.154541</td>\n",
       "      <td>238941.681809</td>\n",
       "      <td>70842.024147</td>\n",
       "      <td>56613.812561</td>\n",
       "      <td>388867.412354</td>\n",
       "      <td>864745.653725</td>\n",
       "      <td>130159.021362</td>\n",
       "      <td>198746.165985</td>\n",
       "      <td>103895.87619</td>\n",
       "    </tr>\n",
       "  </tbody>\n",
       "</table>\n",
       "<p>1 rows × 49 columns</p>\n",
       "</div>"
      ],
      "text/plain": [
       "STFIPS             01             04             05             06  \\\n",
       "2000    348109.728027  180445.968239  316665.503052  708780.694885   \n",
       "\n",
       "STFIPS             08            09            10          11             12  \\\n",
       "2000    130638.774048  42679.395447  14122.252686  689.572754  356019.569122   \n",
       "\n",
       "STFIPS             13      ...                 46             47  \\\n",
       "2000    449095.094208      ...       68281.358856  258419.154541   \n",
       "\n",
       "STFIPS             48            49            50             51  \\\n",
       "2000    238941.681809  70842.024147  56613.812561  388867.412354   \n",
       "\n",
       "STFIPS             53             54             55            56  \n",
       "2000    864745.653725  130159.021362  198746.165985  103895.87619  \n",
       "\n",
       "[1 rows x 49 columns]"
      ]
     },
     "execution_count": 80,
     "metadata": {},
     "output_type": "execute_result"
    }
   ],
   "source": [
    "pv2000 = pd.DataFrame(pvData['2000']).T\n",
    "pv2000"
   ]
  }
 ],
 "metadata": {
  "kernelspec": {
   "display_name": "Python 2",
   "language": "python",
   "name": "python2"
  },
  "language_info": {
   "codemirror_mode": {
    "name": "ipython",
    "version": 2
   },
   "file_extension": ".py",
   "mimetype": "text/x-python",
   "name": "python",
   "nbconvert_exporter": "python",
   "pygments_lexer": "ipython2",
   "version": "2.7.12"
  }
 },
 "nbformat": 4,
 "nbformat_minor": 2
}
